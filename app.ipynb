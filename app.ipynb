{
 "cells": [
  {
   "cell_type": "code",
   "execution_count": 5,
   "id": "d4767cb8",
   "metadata": {},
   "outputs": [],
   "source": [
    "from flask import Flask, render_template, redirect, jsonify\n",
    "\n",
    "import sqlalchemy\n",
    "from sqlalchemy.ext.automap import automap_base\n",
    "from sqlalchemy.orm import Session\n",
    "from sqlalchemy import create_engine, inspect, func\n",
    "import json\n",
    "from datetime import datetime\n",
    "from pathlib import Path\n",
    "import pandas as pd\n",
    "\n",
    "import time\n",
    "\n",
    "  \n",
    "# Database Setup\n",
    "connection_string = \"postgres:Batman4!@localhost:5432/afl_statistics_DB\"\n",
    "engine = create_engine(f'postgresql://{connection_string}')\n",
    "\n",
    "# reflect an existing database into a new model\n",
    "Base = automap_base()\n",
    "\n",
    "# reflect the tables\n",
    "Base.prepare(engine, reflect=True)\n",
    "\n",
    "# Save reference to the table\n",
    "afl_table = Base.classes.afl_team_performance"
   ]
  },
  {
   "cell_type": "code",
   "execution_count": 6,
   "id": "cb26d2e6",
   "metadata": {},
   "outputs": [],
   "source": [
    "# Flask Routes\n",
    "app = Flask(__name__)"
   ]
  },
  {
   "cell_type": "code",
   "execution_count": 7,
   "id": "6e1c59eb",
   "metadata": {},
   "outputs": [],
   "source": [
    "@app.route(\"/\")\n",
    "def welcome():\n",
    "    return render_template(\"index.html\")"
   ]
  },
  {
   "cell_type": "code",
   "execution_count": 8,
   "id": "7e82edf5",
   "metadata": {},
   "outputs": [],
   "source": [
    "@app.route(\"/data\")\n",
    "def data():\n",
    "    query = engine.execute('SELECT row_to_json(t) FROM (select team, gameid, year, round, team_score, team_points, opposing_team, opposing_team_score, win_loss, disposals, \\\n",
    "         kicks, marks, handballs, goals, behinds, hitouts, tackles, rebounds, inside50s, clearances, clangers, frees, frees_against, contested_possessions, \\\n",
    "             uncontested_possessions, contested_marks, marks_inside50, one_percenters, bounces, goal_assists from afl_team_performance) t').fetchall()\n",
    "    stats_list = []\n",
    "    for i in range (len(query)):\n",
    "        stats_list.append(query[i])\n",
    "    return jsonify(stats_list)"
   ]
  },
  {
   "cell_type": "code",
   "execution_count": 9,
   "id": "6c0c6e16",
   "metadata": {},
   "outputs": [
    {
     "name": "stdout",
     "output_type": "stream",
     "text": [
      " * Serving Flask app '__main__' (lazy loading)\n",
      " * Environment: production\n",
      "\u001b[31m   WARNING: This is a development server. Do not use it in a production deployment.\u001b[0m\n",
      "\u001b[2m   Use a production WSGI server instead.\u001b[0m\n",
      " * Debug mode: on\n"
     ]
    },
    {
     "name": "stderr",
     "output_type": "stream",
     "text": [
      " * Restarting with stat\n"
     ]
    },
    {
     "ename": "SystemExit",
     "evalue": "1",
     "output_type": "error",
     "traceback": [
      "An exception has occurred, use %tb to see the full traceback.\n",
      "\u001b[1;31mSystemExit\u001b[0m\u001b[1;31m:\u001b[0m 1\n"
     ]
    }
   ],
   "source": [
    "if __name__ == \"__main__\":\n",
    "    app.run(debug=True )"
   ]
  }
 ],
 "metadata": {
  "kernelspec": {
   "display_name": "Python 3",
   "language": "python",
   "name": "python3"
  },
  "language_info": {
   "codemirror_mode": {
    "name": "ipython",
    "version": 3
   },
   "file_extension": ".py",
   "mimetype": "text/x-python",
   "name": "python",
   "nbconvert_exporter": "python",
   "pygments_lexer": "ipython3",
   "version": "3.9.6"
  }
 },
 "nbformat": 4,
 "nbformat_minor": 5
}
